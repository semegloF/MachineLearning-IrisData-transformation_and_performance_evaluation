{
 "cells": [
  {
   "cell_type": "markdown",
   "id": "eca6be3d",
   "metadata": {},
   "source": [
    "# Analyse de données de la fleure Iris"
   ]
  },
  {
   "cell_type": "markdown",
   "id": "f0475425",
   "metadata": {},
   "source": [
    "## I. Analyse exploratory"
   ]
  },
  {
   "cell_type": "markdown",
   "id": "c8cc2901",
   "metadata": {},
   "source": [
    "### .Librairies"
   ]
  },
  {
   "cell_type": "code",
   "execution_count": 1,
   "id": "d6d2f4f8",
   "metadata": {},
   "outputs": [],
   "source": [
    "import warnings\n",
    "warnings.filterwarnings('ignore')\n",
    "import pandas as pd\n",
    "import numpy as np\n",
    "import matplotlib.pyplot as plt\n",
    "from pandas.plotting import scatter_matrix\n",
    "import seaborn as sns\n",
    "sns.set()\n"
   ]
  },
  {
   "cell_type": "markdown",
   "id": "0a3f1d06",
   "metadata": {},
   "source": [
    "### . Data exploration"
   ]
  },
  {
   "cell_type": "code",
   "execution_count": 4,
   "id": "4d8bcb74",
   "metadata": {},
   "outputs": [
    {
     "data": {
      "text/html": [
       "<div>\n",
       "<style scoped>\n",
       "    .dataframe tbody tr th:only-of-type {\n",
       "        vertical-align: middle;\n",
       "    }\n",
       "\n",
       "    .dataframe tbody tr th {\n",
       "        vertical-align: top;\n",
       "    }\n",
       "\n",
       "    .dataframe thead th {\n",
       "        text-align: right;\n",
       "    }\n",
       "</style>\n",
       "<table border=\"1\" class=\"dataframe\">\n",
       "  <thead>\n",
       "    <tr style=\"text-align: right;\">\n",
       "      <th></th>\n",
       "      <th>SepalLength</th>\n",
       "      <th>SepalWidth</th>\n",
       "      <th>PetalLength</th>\n",
       "      <th>PetalWidth</th>\n",
       "    </tr>\n",
       "    <tr>\n",
       "      <th>Name</th>\n",
       "      <th></th>\n",
       "      <th></th>\n",
       "      <th></th>\n",
       "      <th></th>\n",
       "    </tr>\n",
       "  </thead>\n",
       "  <tbody>\n",
       "    <tr>\n",
       "      <th>Iris-setosa</th>\n",
       "      <td>5.1</td>\n",
       "      <td>3.5</td>\n",
       "      <td>1.4</td>\n",
       "      <td>0.2</td>\n",
       "    </tr>\n",
       "    <tr>\n",
       "      <th>Iris-setosa</th>\n",
       "      <td>4.9</td>\n",
       "      <td>3.0</td>\n",
       "      <td>1.4</td>\n",
       "      <td>0.2</td>\n",
       "    </tr>\n",
       "    <tr>\n",
       "      <th>Iris-setosa</th>\n",
       "      <td>4.7</td>\n",
       "      <td>3.2</td>\n",
       "      <td>1.3</td>\n",
       "      <td>0.2</td>\n",
       "    </tr>\n",
       "    <tr>\n",
       "      <th>Iris-setosa</th>\n",
       "      <td>4.6</td>\n",
       "      <td>3.1</td>\n",
       "      <td>1.5</td>\n",
       "      <td>0.2</td>\n",
       "    </tr>\n",
       "    <tr>\n",
       "      <th>Iris-setosa</th>\n",
       "      <td>5.0</td>\n",
       "      <td>3.6</td>\n",
       "      <td>1.4</td>\n",
       "      <td>0.2</td>\n",
       "    </tr>\n",
       "    <tr>\n",
       "      <th>...</th>\n",
       "      <td>...</td>\n",
       "      <td>...</td>\n",
       "      <td>...</td>\n",
       "      <td>...</td>\n",
       "    </tr>\n",
       "    <tr>\n",
       "      <th>Iris-virginica</th>\n",
       "      <td>6.7</td>\n",
       "      <td>3.0</td>\n",
       "      <td>5.2</td>\n",
       "      <td>2.3</td>\n",
       "    </tr>\n",
       "    <tr>\n",
       "      <th>Iris-virginica</th>\n",
       "      <td>6.3</td>\n",
       "      <td>2.5</td>\n",
       "      <td>5.0</td>\n",
       "      <td>1.9</td>\n",
       "    </tr>\n",
       "    <tr>\n",
       "      <th>Iris-virginica</th>\n",
       "      <td>6.5</td>\n",
       "      <td>3.0</td>\n",
       "      <td>5.2</td>\n",
       "      <td>2.0</td>\n",
       "    </tr>\n",
       "    <tr>\n",
       "      <th>Iris-virginica</th>\n",
       "      <td>6.2</td>\n",
       "      <td>3.4</td>\n",
       "      <td>5.4</td>\n",
       "      <td>2.3</td>\n",
       "    </tr>\n",
       "    <tr>\n",
       "      <th>Iris-virginica</th>\n",
       "      <td>5.9</td>\n",
       "      <td>3.0</td>\n",
       "      <td>5.1</td>\n",
       "      <td>1.8</td>\n",
       "    </tr>\n",
       "  </tbody>\n",
       "</table>\n",
       "<p>150 rows × 4 columns</p>\n",
       "</div>"
      ],
      "text/plain": [
       "                SepalLength  SepalWidth  PetalLength  PetalWidth\n",
       "Name                                                            \n",
       "Iris-setosa             5.1         3.5          1.4         0.2\n",
       "Iris-setosa             4.9         3.0          1.4         0.2\n",
       "Iris-setosa             4.7         3.2          1.3         0.2\n",
       "Iris-setosa             4.6         3.1          1.5         0.2\n",
       "Iris-setosa             5.0         3.6          1.4         0.2\n",
       "...                     ...         ...          ...         ...\n",
       "Iris-virginica          6.7         3.0          5.2         2.3\n",
       "Iris-virginica          6.3         2.5          5.0         1.9\n",
       "Iris-virginica          6.5         3.0          5.2         2.0\n",
       "Iris-virginica          6.2         3.4          5.4         2.3\n",
       "Iris-virginica          5.9         3.0          5.1         1.8\n",
       "\n",
       "[150 rows x 4 columns]"
      ]
     },
     "execution_count": 4,
     "metadata": {},
     "output_type": "execute_result"
    }
   ],
   "source": [
    "#load dataset\n",
    "raw_data = pd.read_csv(\"iris.csv\", index_col=4) # take index 4 as colomn\n",
    "raw_data"
   ]
  },
  {
   "cell_type": "markdown",
   "id": "136ab101",
   "metadata": {},
   "source": [
    "## II. Descriptive statics"
   ]
  },
  {
   "cell_type": "code",
   "execution_count": 9,
   "id": "9d5bf38b",
   "metadata": {},
   "outputs": [
    {
     "data": {
      "text/html": [
       "<div>\n",
       "<style scoped>\n",
       "    .dataframe tbody tr th:only-of-type {\n",
       "        vertical-align: middle;\n",
       "    }\n",
       "\n",
       "    .dataframe tbody tr th {\n",
       "        vertical-align: top;\n",
       "    }\n",
       "\n",
       "    .dataframe thead th {\n",
       "        text-align: right;\n",
       "    }\n",
       "</style>\n",
       "<table border=\"1\" class=\"dataframe\">\n",
       "  <thead>\n",
       "    <tr style=\"text-align: right;\">\n",
       "      <th></th>\n",
       "      <th>SepalLength</th>\n",
       "      <th>SepalWidth</th>\n",
       "      <th>PetalLength</th>\n",
       "      <th>PetalWidth</th>\n",
       "    </tr>\n",
       "  </thead>\n",
       "  <tbody>\n",
       "    <tr>\n",
       "      <th>count</th>\n",
       "      <td>150.00</td>\n",
       "      <td>150.00</td>\n",
       "      <td>150.00</td>\n",
       "      <td>150.00</td>\n",
       "    </tr>\n",
       "    <tr>\n",
       "      <th>mean</th>\n",
       "      <td>5.84</td>\n",
       "      <td>3.05</td>\n",
       "      <td>3.76</td>\n",
       "      <td>1.20</td>\n",
       "    </tr>\n",
       "    <tr>\n",
       "      <th>std</th>\n",
       "      <td>0.83</td>\n",
       "      <td>0.43</td>\n",
       "      <td>1.76</td>\n",
       "      <td>0.76</td>\n",
       "    </tr>\n",
       "    <tr>\n",
       "      <th>min</th>\n",
       "      <td>4.30</td>\n",
       "      <td>2.00</td>\n",
       "      <td>1.00</td>\n",
       "      <td>0.10</td>\n",
       "    </tr>\n",
       "    <tr>\n",
       "      <th>25%</th>\n",
       "      <td>5.10</td>\n",
       "      <td>2.80</td>\n",
       "      <td>1.60</td>\n",
       "      <td>0.30</td>\n",
       "    </tr>\n",
       "    <tr>\n",
       "      <th>50%</th>\n",
       "      <td>5.80</td>\n",
       "      <td>3.00</td>\n",
       "      <td>4.35</td>\n",
       "      <td>1.30</td>\n",
       "    </tr>\n",
       "    <tr>\n",
       "      <th>75%</th>\n",
       "      <td>6.40</td>\n",
       "      <td>3.30</td>\n",
       "      <td>5.10</td>\n",
       "      <td>1.80</td>\n",
       "    </tr>\n",
       "    <tr>\n",
       "      <th>max</th>\n",
       "      <td>7.90</td>\n",
       "      <td>4.40</td>\n",
       "      <td>6.90</td>\n",
       "      <td>2.50</td>\n",
       "    </tr>\n",
       "  </tbody>\n",
       "</table>\n",
       "</div>"
      ],
      "text/plain": [
       "       SepalLength  SepalWidth  PetalLength  PetalWidth\n",
       "count       150.00      150.00       150.00      150.00\n",
       "mean          5.84        3.05         3.76        1.20\n",
       "std           0.83        0.43         1.76        0.76\n",
       "min           4.30        2.00         1.00        0.10\n",
       "25%           5.10        2.80         1.60        0.30\n",
       "50%           5.80        3.00         4.35        1.30\n",
       "75%           6.40        3.30         5.10        1.80\n",
       "max           7.90        4.40         6.90        2.50"
      ]
     },
     "execution_count": 9,
     "metadata": {},
     "output_type": "execute_result"
    }
   ],
   "source": [
    "stats = raw_data.describe(include='all').round(2)\n",
    "stats"
   ]
  },
  {
   "cell_type": "markdown",
   "id": "0bd84901",
   "metadata": {},
   "source": [
    "### . Visualisation"
   ]
  },
  {
   "cell_type": "code",
   "execution_count": 26,
   "id": "e3374303",
   "metadata": {},
   "outputs": [
    {
     "data": {
      "image/png": "[encoded data removed]",
      "text/plain": [
       "<Figure size 648x648 with 8 Axes>"
      ]
     },
     "metadata": {},
     "output_type": "display_data"
    }
   ],
   "source": [
    "# box and wiskwer plot\n",
    "# this part show as if we have aberant values\n",
    "raw_data.plot(kind= 'box', subplots= True , layout= (4,2), sharex = False, sharey = False, figsize=(9,9))\n",
    "plt.show()"
   ]
  },
  {
   "cell_type": "code",
   "execution_count": 30,
   "id": "5d5b6cf9",
   "metadata": {},
   "outputs": [
    {
     "data": {
      "text/plain": [
       "<function matplotlib.pyplot.show(close=None, block=None)>"
      ]
     },
     "execution_count": 30,
     "metadata": {},
     "output_type": "execute_result"
    },
    {
     "data": {
      "image/png": "[encoded data removed]",
      "text/plain": [
       "<Figure size 648x648 with 8 Axes>"
      ]
     },
     "metadata": {},
     "output_type": "display_data"
    }
   ],
   "source": [
    "#Density\n",
    "raw_data.plot(kind='density', subplots = True, layout = (4,2), sharex = False, figsize = (9,9))\n",
    "plt.show"
   ]
  },
  {
   "cell_type": "markdown",
   "id": "b3b1e790",
   "metadata": {},
   "source": [
    "### . Data cleansing"
   ]
  },
  {
   "cell_type": "code",
   "execution_count": 31,
   "id": "b4f51715",
   "metadata": {},
   "outputs": [
    {
     "data": {
      "text/plain": [
       "SepalLength    0\n",
       "SepalWidth     0\n",
       "PetalLength    0\n",
       "PetalWidth     0\n",
       "dtype: int64"
      ]
     },
     "execution_count": 31,
     "metadata": {},
     "output_type": "execute_result"
    }
   ],
   "source": [
    "# shecking missing data\n",
    "\n",
    "missing_values= raw_data.isnull().sum() # show colmns witch don't have values\n",
    "missing_values"
   ]
  },
  {
   "cell_type": "markdown",
   "id": "cf1fc135",
   "metadata": {},
   "source": [
    "## III. Data analysis"
   ]
  },
  {
   "cell_type": "markdown",
   "id": "830c8a61",
   "metadata": {},
   "source": [
    "### . length per flower name"
   ]
  },
  {
   "cell_type": "code",
   "execution_count": 35,
   "id": "d29d9abd",
   "metadata": {},
   "outputs": [
    {
     "data": {
      "text/plain": [
       "Name\n",
       "Iris-setosa        50\n",
       "Iris-versicolor    50\n",
       "Iris-virginica     50\n",
       "dtype: int64"
      ]
     },
     "execution_count": 35,
     "metadata": {},
     "output_type": "execute_result"
    }
   ],
   "source": [
    "length = raw_data.groupby('Name').size()\n",
    "length"
   ]
  },
  {
   "cell_type": "code",
   "execution_count": 39,
   "id": "5868e6f3",
   "metadata": {},
   "outputs": [
    {
     "data": {
      "text/html": [
       "<div>\n",
       "<style scoped>\n",
       "    .dataframe tbody tr th:only-of-type {\n",
       "        vertical-align: middle;\n",
       "    }\n",
       "\n",
       "    .dataframe tbody tr th {\n",
       "        vertical-align: top;\n",
       "    }\n",
       "\n",
       "    .dataframe thead th {\n",
       "        text-align: right;\n",
       "    }\n",
       "</style>\n",
       "<table border=\"1\" class=\"dataframe\">\n",
       "  <thead>\n",
       "    <tr style=\"text-align: right;\">\n",
       "      <th></th>\n",
       "      <th>SepalLength</th>\n",
       "      <th>SepalWidth</th>\n",
       "      <th>PetalLength</th>\n",
       "      <th>PetalWidth</th>\n",
       "    </tr>\n",
       "    <tr>\n",
       "      <th>Name</th>\n",
       "      <th></th>\n",
       "      <th></th>\n",
       "      <th></th>\n",
       "      <th></th>\n",
       "    </tr>\n",
       "  </thead>\n",
       "  <tbody>\n",
       "    <tr>\n",
       "      <th>Iris-setosa</th>\n",
       "      <td>5.01</td>\n",
       "      <td>3.42</td>\n",
       "      <td>1.46</td>\n",
       "      <td>0.24</td>\n",
       "    </tr>\n",
       "    <tr>\n",
       "      <th>Iris-versicolor</th>\n",
       "      <td>5.94</td>\n",
       "      <td>2.77</td>\n",
       "      <td>4.26</td>\n",
       "      <td>1.33</td>\n",
       "    </tr>\n",
       "    <tr>\n",
       "      <th>Iris-virginica</th>\n",
       "      <td>6.59</td>\n",
       "      <td>2.97</td>\n",
       "      <td>5.55</td>\n",
       "      <td>2.03</td>\n",
       "    </tr>\n",
       "  </tbody>\n",
       "</table>\n",
       "</div>"
      ],
      "text/plain": [
       "                 SepalLength  SepalWidth  PetalLength  PetalWidth\n",
       "Name                                                             \n",
       "Iris-setosa             5.01        3.42         1.46        0.24\n",
       "Iris-versicolor         5.94        2.77         4.26        1.33\n",
       "Iris-virginica          6.59        2.97         5.55        2.03"
      ]
     },
     "execution_count": 39,
     "metadata": {},
     "output_type": "execute_result"
    }
   ],
   "source": [
    "# record per name with the length\n",
    "df1= raw_data.groupby('Name').agg('mean').round(2)\n",
    "df1"
   ]
  },
  {
   "cell_type": "code",
   "execution_count": 42,
   "id": "48bfab7f",
   "metadata": {},
   "outputs": [
    {
     "data": {
      "image/png": "[encoded data removed]",
      "text/plain": [
       "<Figure size 648x648 with 1 Axes>"
      ]
     },
     "metadata": {},
     "output_type": "display_data"
    }
   ],
   "source": [
    "df1.reset_index().plot(x='Name', y=['SepalLength','SepalWidth', 'PetalLength', 'PetalWidth'], kind = 'bar', figsize = (9,9))\n",
    "\n",
    "plt.title(\"Mean length per name\")\n",
    "plt.xlabel(\"Flowers Name\")\n",
    "plt.ylabel('Mean Length')\n",
    "plt.show()\n"
   ]
  },
  {
   "cell_type": "markdown",
   "id": "19b9b354",
   "metadata": {},
   "source": [
    "### . Iris_setosa"
   ]
  },
  {
   "cell_type": "code",
   "execution_count": 52,
   "id": "aa90ee9f",
   "metadata": {},
   "outputs": [
    {
     "name": "stdout",
     "output_type": "stream",
     "text": [
      "SepalLength    5.01\n",
      "SepalWidth     3.42\n",
      "PetalLength    1.46\n",
      "PetalWidth     0.24\n",
      "Name: Iris-setosa, dtype: float64\n"
     ]
    },
    {
     "data": {
      "image/png": "[encoded data removed]",
      "text/plain": [
       "<Figure size 432x288 with 1 Axes>"
      ]
     },
     "metadata": {},
     "output_type": "display_data"
    }
   ],
   "source": [
    "df_Iris_setosa= df1.iloc[0].sort_values(ascending=False)\n",
    "print(df_Iris_setosa)\n",
    "df_Iris_setosa.plot.pie(autopct='%.1f%%', title=\"flower length reartition\", startangle=30)\n",
    "plt.show()"
   ]
  },
  {
   "cell_type": "markdown",
   "id": "001dd30b",
   "metadata": {},
   "source": [
    "### .Iris-versicolor"
   ]
  },
  {
   "cell_type": "code",
   "execution_count": 54,
   "id": "8a04d084",
   "metadata": {},
   "outputs": [
    {
     "name": "stdout",
     "output_type": "stream",
     "text": [
      "SepalLength    5.94\n",
      "PetalLength    4.26\n",
      "SepalWidth     2.77\n",
      "PetalWidth     1.33\n",
      "Name: Iris-versicolor, dtype: float64\n"
     ]
    },
    {
     "data": {
      "image/png": "[encoded data removed]",
      "text/plain": [
       "<Figure size 432x288 with 1 Axes>"
      ]
     },
     "metadata": {},
     "output_type": "display_data"
    }
   ],
   "source": [
    "df_Iris_versicolor= df1.iloc[1].sort_values(ascending=False)\n",
    "print(df_Iris_versicolor)\n",
    "df_Iris_versicolor.plot.pie(autopct='%.1f%%', title=\"flower length reartition\", startangle=30)\n",
    "plt.show()"
   ]
  },
  {
   "cell_type": "markdown",
   "id": "bf0fd013",
   "metadata": {},
   "source": [
    "### .Iris-virginica"
   ]
  },
  {
   "cell_type": "code",
   "execution_count": 56,
   "id": "4cbac1be",
   "metadata": {},
   "outputs": [
    {
     "name": "stdout",
     "output_type": "stream",
     "text": [
      "SepalLength    6.59\n",
      "PetalLength    5.55\n",
      "SepalWidth     2.97\n",
      "PetalWidth     2.03\n",
      "Name: Iris-virginica, dtype: float64\n"
     ]
    },
    {
     "data": {
      "image/png": "[encoded data removed]",
      "text/plain": [
       "<Figure size 432x288 with 1 Axes>"
      ]
     },
     "metadata": {},
     "output_type": "display_data"
    }
   ],
   "source": [
    "df_Iris_virginica= df1.iloc[2].sort_values(ascending=False)\n",
    "print(df_Iris_virginica)\n",
    "df_Iris_virginica.plot.pie(autopct='%.1f%%', title=\"flower length reartition\", startangle=30)\n",
    "plt.show()"
   ]
  },
  {
   "cell_type": "code",
   "execution_count": 57,
   "id": "1d0f765c",
   "metadata": {},
   "outputs": [
    {
     "data": {
      "text/html": [
       "<div>\n",
       "<style scoped>\n",
       "    .dataframe tbody tr th:only-of-type {\n",
       "        vertical-align: middle;\n",
       "    }\n",
       "\n",
       "    .dataframe tbody tr th {\n",
       "        vertical-align: top;\n",
       "    }\n",
       "\n",
       "    .dataframe thead th {\n",
       "        text-align: right;\n",
       "    }\n",
       "</style>\n",
       "<table border=\"1\" class=\"dataframe\">\n",
       "  <thead>\n",
       "    <tr style=\"text-align: right;\">\n",
       "      <th></th>\n",
       "      <th>SepalLength</th>\n",
       "      <th>SepalWidth</th>\n",
       "      <th>PetalLength</th>\n",
       "      <th>PetalWidth</th>\n",
       "    </tr>\n",
       "  </thead>\n",
       "  <tbody>\n",
       "    <tr>\n",
       "      <th>SepalLength</th>\n",
       "      <td>1.00</td>\n",
       "      <td>-0.11</td>\n",
       "      <td>0.87</td>\n",
       "      <td>0.82</td>\n",
       "    </tr>\n",
       "    <tr>\n",
       "      <th>SepalWidth</th>\n",
       "      <td>-0.11</td>\n",
       "      <td>1.00</td>\n",
       "      <td>-0.42</td>\n",
       "      <td>-0.36</td>\n",
       "    </tr>\n",
       "    <tr>\n",
       "      <th>PetalLength</th>\n",
       "      <td>0.87</td>\n",
       "      <td>-0.42</td>\n",
       "      <td>1.00</td>\n",
       "      <td>0.96</td>\n",
       "    </tr>\n",
       "    <tr>\n",
       "      <th>PetalWidth</th>\n",
       "      <td>0.82</td>\n",
       "      <td>-0.36</td>\n",
       "      <td>0.96</td>\n",
       "      <td>1.00</td>\n",
       "    </tr>\n",
       "  </tbody>\n",
       "</table>\n",
       "</div>"
      ],
      "text/plain": [
       "             SepalLength  SepalWidth  PetalLength  PetalWidth\n",
       "SepalLength         1.00       -0.11         0.87        0.82\n",
       "SepalWidth         -0.11        1.00        -0.42       -0.36\n",
       "PetalLength         0.87       -0.42         1.00        0.96\n",
       "PetalWidth          0.82       -0.36         0.96        1.00"
      ]
     },
     "execution_count": 57,
     "metadata": {},
     "output_type": "execute_result"
    }
   ],
   "source": [
    "# correlation\n",
    "raw_data.corr(method='pearson').round(2)"
   ]
  },
  {
   "cell_type": "markdown",
   "id": "e9bbe0cc",
   "metadata": {},
   "source": [
    "## IV . Evaluation de performance des algorithmes de ML avec Rééchantillonage(Resampling)"
   ]
  },
  {
   "cell_type": "markdown",
   "id": "5f9a4278",
   "metadata": {},
   "source": [
    "### .import libraires"
   ]
  },
  {
   "cell_type": "code",
   "execution_count": 59,
   "id": "215d48eb",
   "metadata": {},
   "outputs": [],
   "source": [
    "import warnings\n",
    "warnings.filterwarnings('ignore')\n",
    "from pandas import read_csv\n",
    "#import learning algorithm/ classifier\n",
    "from sklearn.linear_model import LogisticRegression"
   ]
  },
  {
   "cell_type": "markdown",
   "id": "d9d7ed4b",
   "metadata": {},
   "source": [
    "### . Data exploratory"
   ]
  },
  {
   "cell_type": "code",
   "execution_count": 68,
   "id": "3c4e5afc",
   "metadata": {},
   "outputs": [],
   "source": [
    "dataframe =read_csv('iris.csv')\n",
    "data_values = dataframe.values # retrieve values from the datafreme\n",
    "x= data_values[ : ,0 :-1] # de 0 à l'avant dernierre colonne\n",
    "y= data_values[ :,-1] # de 0 à l'avant dernierre colonne"
   ]
  },
  {
   "cell_type": "markdown",
   "id": "771b6df9",
   "metadata": {},
   "source": [
    "### a. Train test split"
   ]
  },
  {
   "cell_type": "code",
   "execution_count": 75,
   "id": "eeeff9e8",
   "metadata": {},
   "outputs": [
    {
     "name": "stdout",
     "output_type": "stream",
     "text": [
      "Accuracy: 92.00 %\n",
      "predicted:-->  Iris-virginica   Real:--> Iris-virginica\n",
      "predicted:-->  Iris-versicolor   Real:--> Iris-versicolor\n",
      "predicted:-->  Iris-setosa   Real:--> Iris-setosa\n",
      "predicted:-->  Iris-versicolor   Real:--> Iris-versicolor\n",
      "predicted:-->  Iris-versicolor   Real:--> Iris-virginica\n",
      "predicted:-->  Iris-setosa   Real:--> Iris-setosa\n",
      "predicted:-->  Iris-versicolor   Real:--> Iris-versicolor\n",
      "predicted:-->  Iris-versicolor   Real:--> Iris-versicolor\n",
      "predicted:-->  Iris-setosa   Real:--> Iris-setosa\n",
      "predicted:-->  Iris-versicolor   Real:--> Iris-versicolor\n",
      "predicted:-->  Iris-virginica   Real:--> Iris-versicolor\n",
      "predicted:-->  Iris-versicolor   Real:--> Iris-versicolor\n",
      "predicted:-->  Iris-setosa   Real:--> Iris-setosa\n",
      "predicted:-->  Iris-virginica   Real:--> Iris-virginica\n",
      "predicted:-->  Iris-setosa   Real:--> Iris-setosa\n",
      "predicted:-->  Iris-virginica   Real:--> Iris-versicolor\n",
      "predicted:-->  Iris-virginica   Real:--> Iris-virginica\n",
      "predicted:-->  Iris-virginica   Real:--> Iris-virginica\n",
      "predicted:-->  Iris-setosa   Real:--> Iris-setosa\n",
      "predicted:-->  Iris-setosa   Real:--> Iris-setosa\n",
      "predicted:-->  Iris-versicolor   Real:--> Iris-versicolor\n",
      "predicted:-->  Iris-virginica   Real:--> Iris-virginica\n",
      "predicted:-->  Iris-versicolor   Real:--> Iris-versicolor\n",
      "predicted:-->  Iris-versicolor   Real:--> Iris-virginica\n",
      "predicted:-->  Iris-virginica   Real:--> Iris-virginica\n",
      "predicted:-->  Iris-virginica   Real:--> Iris-virginica\n",
      "predicted:-->  Iris-versicolor   Real:--> Iris-versicolor\n",
      "predicted:-->  Iris-versicolor   Real:--> Iris-versicolor\n",
      "predicted:-->  Iris-virginica   Real:--> Iris-virginica\n",
      "predicted:-->  Iris-virginica   Real:--> Iris-virginica\n",
      "predicted:-->  Iris-virginica   Real:--> Iris-virginica\n",
      "predicted:-->  Iris-versicolor   Real:--> Iris-versicolor\n",
      "predicted:-->  Iris-setosa   Real:--> Iris-setosa\n",
      "predicted:-->  Iris-virginica   Real:--> Iris-virginica\n",
      "predicted:-->  Iris-versicolor   Real:--> Iris-versicolor\n",
      "predicted:-->  Iris-setosa   Real:--> Iris-setosa\n",
      "predicted:-->  Iris-setosa   Real:--> Iris-setosa\n",
      "predicted:-->  Iris-setosa   Real:--> Iris-setosa\n",
      "predicted:-->  Iris-setosa   Real:--> Iris-setosa\n",
      "predicted:-->  Iris-virginica   Real:--> Iris-virginica\n",
      "predicted:-->  Iris-virginica   Real:--> Iris-virginica\n",
      "predicted:-->  Iris-versicolor   Real:--> Iris-versicolor\n",
      "predicted:-->  Iris-virginica   Real:--> Iris-virginica\n",
      "predicted:-->  Iris-virginica   Real:--> Iris-virginica\n",
      "predicted:-->  Iris-versicolor   Real:--> Iris-versicolor\n",
      "predicted:-->  Iris-setosa   Real:--> Iris-setosa\n",
      "predicted:-->  Iris-versicolor   Real:--> Iris-versicolor\n",
      "predicted:-->  Iris-versicolor   Real:--> Iris-versicolor\n",
      "predicted:-->  Iris-virginica   Real:--> Iris-virginica\n",
      "predicted:-->  Iris-setosa   Real:--> Iris-setosa\n"
     ]
    }
   ],
   "source": [
    "# permet de diviser le module en test et training\n",
    "from sklearn.model_selection import train_test_split\n",
    "size = 0.33 #Taille de test_set(33%)\n",
    "seed = 7\n",
    "x_train, x_test,y_train, y_test =  train_test_split(x, y, test_size = size, random_state=seed )\n",
    "    \n",
    "#training steps\n",
    "model = LogisticRegression()\n",
    "#Learning / Apprentissage\n",
    "model.fit(x_train, y_train) # apprentissage\n",
    "#prediction\n",
    "result = model.score(x_test, y_test) #return the success rate(Accuracy)\n",
    "print(\"Accuracy: %.2f %%\" % (result*100.0))\n",
    "predicted_Name = model.predict(x_test)\n",
    "\n",
    "for y_predict, y_real in zip(predicted_Name, y_test):\n",
    "    print(\"predicted:--> \", y_predict ,\"  Real:-->\" ,y_real)\n",
    "  #  print(\"predicted: %d - real: %d\" % (y_predict, y_real))\n"
   ]
  },
  {
   "cell_type": "markdown",
   "id": "be147670",
   "metadata": {},
   "source": [
    "### b. K - Fold cross-validation"
   ]
  },
  {
   "cell_type": "code",
   "execution_count": 76,
   "id": "56825f18",
   "metadata": {},
   "outputs": [
    {
     "name": "stdout",
     "output_type": "stream",
     "text": [
      "Accuracy: 96.67 % (5.37 %)\n"
     ]
    }
   ],
   "source": [
    "from sklearn.model_selection import KFold, cross_val_score\n",
    "split = 10 #10 fold\n",
    "seed = 7# pour maintenir les mm données\n",
    "kfold = KFold(n_splits = split, random_state = seed, shuffle = True)# shuffle change l'ordre des valeurs aleatoires\n",
    "model = LogisticRegression()\n",
    "#training and prediction\n",
    "results = cross_val_score(model, x, y, cv=kfold)\n",
    "print(\"Accuracy: %.2f %% (%.2f %%)\" %(results.mean()*100.0, results.std()*100))"
   ]
  },
  {
   "cell_type": "code",
   "execution_count": 77,
   "id": "688b4b72",
   "metadata": {},
   "outputs": [
    {
     "name": "stdout",
     "output_type": "stream",
     "text": [
      "5.374838498865699\n"
     ]
    }
   ],
   "source": [
    "std=0\n",
    "for i in results:\n",
    "    std+=(i-results.mean())**2\n",
    "print( ( (std/len(results))**0.5 )*100.0 )"
   ]
  },
  {
   "cell_type": "markdown",
   "id": "5e21efb0",
   "metadata": {},
   "source": [
    "### c. Leave one-out Cross Validation"
   ]
  },
  {
   "cell_type": "code",
   "execution_count": 78,
   "id": "e6a28eb0",
   "metadata": {},
   "outputs": [
    {
     "name": "stdout",
     "output_type": "stream",
     "text": [
      "Accuracy: 96.67 % (17.95 %)\n"
     ]
    }
   ],
   "source": [
    "from sklearn.model_selection import LeaveOneOut, cross_val_score\n",
    "seed= 7\n",
    "loocv = LeaveOneOut()\n",
    "model = LogisticRegression() \n",
    "results = cross_val_score(model, x, y, cv=loocv)\n",
    "print(\"Accuracy: %.2f %% (%.2f %%)\" %(results.mean()*100.0, results.std()*100))"
   ]
  },
  {
   "cell_type": "markdown",
   "id": "8af2a1e3",
   "metadata": {},
   "source": [
    "### d. Repeated Random Test-Train split"
   ]
  },
  {
   "cell_type": "code",
   "execution_count": 80,
   "id": "21fdf20a",
   "metadata": {},
   "outputs": [
    {
     "name": "stdout",
     "output_type": "stream",
     "text": [
      "Accuracy: 95.20 % (3.12 %)\n"
     ]
    }
   ],
   "source": [
    "from sklearn.model_selection import ShuffleSplit, cross_val_score\n",
    "split = 10\n",
    "size = 0.33 #33% for the test set\n",
    "seed = 7\n",
    "model =  LogisticRegression() \n",
    "kfold = ShuffleSplit(n_splits = split,test_size = size, random_state = seed)\n",
    "results = cross_val_score(model, x, y, cv=kfold)\n",
    "print(\"Accuracy: %.2f %% (%.2f %%)\" %(results.mean()*100.0, results.std()*100))"
   ]
  },
  {
   "cell_type": "code",
   "execution_count": null,
   "id": "e2fef4fb",
   "metadata": {},
   "outputs": [],
   "source": []
  }
 ],
 "metadata": {
  "kernelspec": {
   "display_name": "Python 3",
   "language": "python",
   "name": "python3"
  },
  "language_info": {
   "codemirror_mode": {
    "name": "ipython",
    "version": 3
   },
   "file_extension": ".py",
   "mimetype": "text/x-python",
   "name": "python",
   "nbconvert_exporter": "python",
   "pygments_lexer": "ipython3",
   "version": "3.8.8"
  }
 },
 "nbformat": 4,
 "nbformat_minor": 5
}
